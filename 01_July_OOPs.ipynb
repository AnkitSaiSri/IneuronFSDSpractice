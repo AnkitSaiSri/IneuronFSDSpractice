{
 "cells": [
  {
   "cell_type": "code",
   "execution_count": null,
   "metadata": {},
   "outputs": [],
   "source": [
    "'''1.\n",
    "The primary goal of OOPS is to make the code organized, Improve reuseability and making the code scalable.The main concept of the OOPS revolves under:\n",
    "\n",
    "1.Classes=Classes act like a blueprint for object creation.Inside classes we define various attributes and methods(functions)\n",
    "2.Objects=Objects are also called instances.They are created with the blueprint designed in classes.They are independent in having their own data and methods.\n",
    "3.Attributes=They are data stored in objects.\n",
    "4.Methods=Methods can functions defined within a class.They can modify and access attributes held by objects.\n",
    "\n",
    "These elements form the essence of OOPS.The main pillars of OOPS are:-\n",
    "\n",
    "1.Encapsulation\n",
    "They provide data encapsulation by hiding and exposing the data which is only required with\n",
    "a.Public access modifiers\n",
    "b.Private access modifiers\n",
    "c.protected access modifiers\n",
    "\n",
    "2.Abstraction:\n",
    "Abstraction can be defined as masking the complex functionality which is irrelevant to the users and and only exposing which is essential with abstract base classes(ABC) and abstract methods.\n",
    "\n",
    "3.Inheritance:\n",
    "It promotes the heirachial relation between existing class and new subclass.This helps in efficiency and reusability of the code.\n",
    "\n",
    "4.Polymorphism:\n",
    "Methods with same name having different functionalities.\n",
    "'''\n"
   ]
  },
  {
   "cell_type": "code",
   "execution_count": null,
   "metadata": {},
   "outputs": [],
   "source": [
    "'''2.\n",
    "An object can also be called as an instance in python.They are created with the blueprints defined with various attibutes and methods in classes.\n",
    "They are independent in having their own data and methods.\n",
    "'''\n"
   ]
  },
  {
   "cell_type": "code",
   "execution_count": null,
   "metadata": {},
   "outputs": [],
   "source": [
    "'''3.\n",
    "Classes=Classes act like a blueprint for object creation.Inside classes we define various attributes and methods(functions) by which the objects are created.Classes also support inheritance due to which properties of parent classes are shared with child classes\n",
    "'''"
   ]
  },
  {
   "cell_type": "code",
   "execution_count": null,
   "metadata": {},
   "outputs": [],
   "source": [
    "'''4.\n",
    "\n",
    "Attributes=They are data stored in objects.\n",
    "There are 2 types of attributes \n",
    "1.instance attributes\n",
    "2.class attributes\n",
    "\n",
    "Methods=Methods can functions defined within a class.They can modify and access attributes held by objects.\n",
    "the different types of methods are\n",
    "1.class methods\n",
    "2.instance methods\n",
    "3.static methods\n",
    "\n",
    "'''"
   ]
  },
  {
   "cell_type": "code",
   "execution_count": null,
   "metadata": {},
   "outputs": [],
   "source": [
    "'''5.\n",
    "The difference between class variables and instance variables\n",
    "1.The class variables can be accessed between all instances of a class \n",
    ".\n",
    "2.The instance variable is only shared for that specific instance.isinstance\n",
    "3.The instance variable is defined in class constructor (__init__) using the self tag and holds data that is common for all classes.\n",
    "4.The class variable is called using (classname.attribute)\n",
    "'''"
   ]
  },
  {
   "cell_type": "code",
   "execution_count": null,
   "metadata": {},
   "outputs": [],
   "source": [
    "'''6.\n",
    "The main purpose of self parameter in python classes helps to refer the current instance of the class as its used to access the attributes and methods that belong to the class.\n",
    "\n",
    "\n",
    "'''"
   ]
  },
  {
   "cell_type": "code",
   "execution_count": 17,
   "metadata": {},
   "outputs": [],
   "source": [
    "'''7'''\n",
    "class Book:\n",
    "    def __init__(self,title,author,isbn,year,available_copies):\n",
    "        self.title=title\n",
    "        self.author=author\n",
    "        self.isbn=isbn\n",
    "        self.year=year\n",
    "        self.available_copies=int(available_copies)\n",
    "    def check_out(self):\n",
    "        if self.available_copies>=1:\n",
    "            self.available_copies=self.available_copies-1\n",
    "            print(f\"Check out successful,You have borrowed one copy of {self.title} written by {self.author}\")\n",
    "            return self.available_copies\n",
    "        \n",
    "        \n",
    "        \n",
    "        else:\n",
    "            print(\"no copies available to check out\")\n",
    "    def return_book(self):\n",
    "        self.available_copies=self.available_copies+1\n",
    "        print(f\"Returned {self.title} written by {self.author}.\")\n",
    "        return self.available_copies\n",
    "    def display_book_info(self):\n",
    "        print(f\"The title of the book is {self.title} written by author {self.author} ({self.isbn}-year-{self.year}).The available copies are {self.available_copies} \")\n",
    "\n",
    "    \n"
   ]
  },
  {
   "cell_type": "code",
   "execution_count": 18,
   "metadata": {},
   "outputs": [],
   "source": [
    "hp=Book(\"Harry_Potter\",\"Jk Rowling\",10191828,1998,25)"
   ]
  },
  {
   "cell_type": "code",
   "execution_count": 19,
   "metadata": {},
   "outputs": [
    {
     "name": "stdout",
     "output_type": "stream",
     "text": [
      "Check out successful,You have borrowed one copy of Harry_Potter written by Jk Rowling\n",
      "Returned Harry_Potter written by Jk Rowling.\n",
      "The title of the book is Harry_Potter written by author Jk Rowling (10191828-year-1998).The available copies are 25 \n"
     ]
    }
   ],
   "source": [
    "hp.check_out()\n",
    "hp.return_book()\n",
    "hp.display_book_info()\n"
   ]
  },
  {
   "cell_type": "code",
   "execution_count": 30,
   "metadata": {},
   "outputs": [],
   "source": [
    "'''8'''\n",
    "class Ticket:\n",
    "    def __init__(self,ticket_id,event_name,event_date,venue,seat_number,price,is_reserved):\n",
    "        self.ticket_id=int(ticket_id)\n",
    "        self.event_name=event_name\n",
    "        self.event_date=event_date\n",
    "        self.venue=venue\n",
    "        self.seat_number=(seat_number)\n",
    "        self.price=price\n",
    "        self.is_reserved=is_reserved\n",
    "    def reserve_ticket(self):\n",
    "        if self.is_reserved ==\"N\":\n",
    "            self.is_reserved=\"Y\"\n",
    "            print(f\"Your ticket carrying{self.ticket.id} is successfully reserved\")\n",
    "            return self.is_reserved\n",
    "    def cancel_reservation(self):\n",
    "        if self.is_reserved==\"Y\":\n",
    "            self.is_reserved='N'\n",
    "            print(f\"Your ticket carrying{self.ticket.id} is cancelled.The reservation will be lost.\")\n",
    "            return self.is_reserved\n",
    "        else:\n",
    "            print(\"as you dont have a reservation, We are unable to process your request\")\n",
    "    def display_ticket_info(self):\n",
    "        if self.is_reserved==\"Y\":\n",
    "            print(f\"Your Ticket of id:{self.ticket_id} for the {self.event_name} at {self.venue} . The booked seat number is : {self.seat_number}\")\n",
    "            print(f\"Congratulations, Your ticket is reserved for you\")\n",
    "        else:\n",
    "            print(f\"Your Ticket ofid:{self.ticket_id} for the {self.event_name} at {self.venue} . The booked seat number is : {self.seat_number}\")\n",
    "            print(f\"Looks like your ticket is still pending reservation\")\n",
    "\n",
    "\n",
    "        \n",
    "        \n",
    "        "
   ]
  },
  {
   "cell_type": "code",
   "execution_count": 31,
   "metadata": {},
   "outputs": [
    {
     "name": "stdout",
     "output_type": "stream",
     "text": [
      "Your Ticket of id:10202 for the IPL playoffs at Narendra Modi Stadium, Motera . The booked seat number is : A98\n",
      "Congratulations, Your ticket is reserved for you\n"
     ]
    }
   ],
   "source": [
    "mg=Ticket(10202,\"IPL playoffs\",\"24th May 2024\",\"Narendra Modi Stadium, Motera\",\"A98\",'Rs.25000','Y')\n",
    "mg.display_ticket_info()"
   ]
  },
  {
   "cell_type": "code",
   "execution_count": 18,
   "metadata": {},
   "outputs": [],
   "source": [
    "'''9'''\n",
    "class ShoppingCart():\n",
    "    def __init__(self,items):\n",
    "        self.items=items\n",
    "    def add_item(self,item):\n",
    "        self.items.append(item)\n",
    "        print(f\"{item} successfully added\")\n",
    "        return self.items\n",
    "    def remove_item(self,item):\n",
    "        if item in self.items:\n",
    "            self.items.remove(item)\n",
    "            print(\"Item {item} Removed from the cart\")\n",
    "            return self.items\n",
    "        else:\n",
    "            print(\"Item not in the cart\")\n",
    "    def view_cart(self):\n",
    "        print(\"The items in the card are :\")\n",
    "        for i in self.items:\n",
    "            print(i)\n",
    "    def clear_cart(self):\n",
    "        self.items=[]\n",
    "        print(\"cart successfully cleared\")\n",
    "\n",
    "\n",
    "        "
   ]
  },
  {
   "cell_type": "code",
   "execution_count": 19,
   "metadata": {},
   "outputs": [
    {
     "name": "stdout",
     "output_type": "stream",
     "text": [
      "ps5 successfully added\n",
      "The items in the card are :\n",
      "Apple\n",
      "Mango\n",
      "Lays\n",
      "Pringles\n",
      "Rasna\n",
      "ps5\n"
     ]
    }
   ],
   "source": [
    "bb=ShoppingCart([\"Apple\",\"Mango\",\"Lays\",\"Pringles\",\"Rasna\"])\n",
    "bb.add_item(\"ps5\")\n",
    "bb.view_cart()"
   ]
  },
  {
   "cell_type": "code",
   "execution_count": 54,
   "metadata": {},
   "outputs": [],
   "source": [
    "'''10'''\n",
    "class Student:\n",
    "    def __init__(self,name,age,grade,student_id,attendance):\n",
    "        self.name=name\n",
    "        self.age=age\n",
    "        self.grade=grade\n",
    "        self.student_id=student_id\n",
    "        self.attendance=attendance\n",
    "    def update_attendance(self):\n",
    "        status=(input(\"Enter Present or Absent\"))\n",
    "        if status==\"P\":\n",
    "            self.attendance=self.attendance+1\n",
    "            print(f\"The {self.name} is marked Present(P) for one day\")\n",
    "            return self.attendance\n",
    "        else:\n",
    "            self.attendance=self.attendance-1\n",
    "            print(f\"The {self.name} is marked Absent(A) for one day\")\n",
    "            return self.attendance\n",
    "    def get_attendance(self):\n",
    "        print(f\"The attendance of {self.name} of {self.grade} having student_id : {self.student_id} is {self.attendance}\")\n",
    "    def get_average_attendance(self):\n",
    "        avg_attendance=(self.attendance/30)*100\n",
    "        print(f\"The average attendance of the student {self.name} of student_id : {self.student_id} from grade {self.grade} is ({avg_attendance}) percent\")\n",
    "        \n",
    "\n",
    "        \n",
    "    "
   ]
  },
  {
   "cell_type": "code",
   "execution_count": 55,
   "metadata": {},
   "outputs": [
    {
     "name": "stdout",
     "output_type": "stream",
     "text": [
      "The average attendance of the student Anudeep of student_id : 1098 from grade 12th is (80.0) percent\n",
      "The Anudeep is marked Absent(A) for one day\n"
     ]
    },
    {
     "data": {
      "text/plain": [
       "23"
      ]
     },
     "execution_count": 55,
     "metadata": {},
     "output_type": "execute_result"
    }
   ],
   "source": [
    "scl=Student(\"Anudeep\",17,\"12th\",1098,24)\n",
    "scl.get_average_attendance()\n",
    "scl.update_attendance()"
   ]
  }
 ],
 "metadata": {
  "kernelspec": {
   "display_name": "Python 3",
   "language": "python",
   "name": "python3"
  },
  "language_info": {
   "codemirror_mode": {
    "name": "ipython",
    "version": 3
   },
   "file_extension": ".py",
   "mimetype": "text/x-python",
   "name": "python",
   "nbconvert_exporter": "python",
   "pygments_lexer": "ipython3",
   "version": "3.8.19"
  }
 },
 "nbformat": 4,
 "nbformat_minor": 2
}
